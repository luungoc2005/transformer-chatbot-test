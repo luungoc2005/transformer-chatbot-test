{
 "nbformat": 4,
 "nbformat_minor": 2,
 "metadata": {
  "language_info": {
   "name": "python",
   "codemirror_mode": {
    "name": "ipython",
    "version": 3
   },
   "version": "3.7.4-final"
  },
  "orig_nbformat": 2,
  "file_extension": ".py",
  "mimetype": "text/x-python",
  "name": "python",
  "npconvert_exporter": "python",
  "pygments_lexer": "ipython3",
  "version": 3,
  "kernelspec": {
   "name": "python37464bitaiconda9f824f5e04234a90bd46f192effee4a6",
   "display_name": "Python 3.7.4 64-bit ('ai': conda)"
  }
 },
 "cells": [
  {
   "cell_type": "code",
   "execution_count": 8,
   "metadata": {},
   "outputs": [],
   "source": [
    "data1 = ['test', 'test2', 'test3', 'test4', 'test5']"
   ]
  },
  {
   "cell_type": "code",
   "execution_count": 9,
   "metadata": {},
   "outputs": [
    {
     "name": "stdout",
     "output_type": "stream",
     "text": "p1 test p0 test2 p1 test3 p0 test4 p1 test5\n"
    }
   ],
   "source": [
    "result = ''\n",
    "for ix, line in enumerate(data1):\n",
    "    if len(data1) % 2 == 0:\n",
    "        result += (' p0 ' if ix % 2 == 0 else ' p1 ') + line\n",
    "    else:\n",
    "        result += (' p1 ' if ix % 2 == 0 else ' p0 ') + line\n",
    "print(result)"
   ]
  },
  {
   "cell_type": "code",
   "execution_count": null,
   "metadata": {},
   "outputs": [],
   "source": []
  }
 ]
}